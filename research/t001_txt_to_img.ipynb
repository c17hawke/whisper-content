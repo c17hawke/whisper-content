{
 "cells": [
  {
   "attachments": {},
   "cell_type": "markdown",
   "metadata": {},
   "source": [
    "# audio to text - WHISPER\n",
    "## Reference\n",
    "1. [openai docs](https://platform.openai.com/docs/guides/speech-to-text)"
   ]
  },
  {
   "cell_type": "code",
   "execution_count": 1,
   "metadata": {},
   "outputs": [],
   "source": [
    "import os\n",
    "import openai\n",
    "from pathlib import Path\n",
    "from dotenv import load_dotenv\n",
    "load_dotenv()\n",
    "\n",
    "openai.api_key = os.getenv(\"OPENAI_API_KEY\")"
   ]
  },
  {
   "cell_type": "code",
   "execution_count": 2,
   "metadata": {},
   "outputs": [],
   "source": [
    "audio_input_filepath = Path(\"../input_data/input_file.mp4\")\n",
    "if audio_input_filepath.is_file():\n",
    "    with open(audio_input_filepath, \"rb\") as audio_input_file:\n",
    "        audio_input_content = audio_input_file.read()\n",
    "else:\n",
    "    raise FileNotFoundError\n"
   ]
  },
  {
   "cell_type": "code",
   "execution_count": 3,
   "metadata": {},
   "outputs": [
    {
     "data": {
      "text/plain": [
       "<OpenAIObject at 0x1fb1dba1d10> JSON: {\n",
       "  \"text\": \"So finally we are at the last session of this playlist and I hope you are excited and in this we are going to go for the image edit that is the most hardest part and you will see that it will have some combination of both the previous pages right? So let's get started here and let's first of all go to the code that we have written for this in the Jupyter notebook. So you can see that here we had two instead of having one file upload we had two and then we had text prompt as well and yeah that's it. So you can if you can remember so you can see that here we have two images one text prompt and that n value that is how many variations you want and as well as the size. So if you compare with the previous two examples so one had just prompt another one had images okay only image and then variations previous one has a text and then it's variation so it's a combination of both you can see here. So what we can do is we can borrow some of these learnings from the previous two pages that we have created and we will create our fourth page right? So let me borrow this from the first of all this page number three let me copy paste everything to page number four and we can also import the necessary required utilities and OpenAI and\"\n",
       "}"
      ]
     },
     "execution_count": 3,
     "metadata": {},
     "output_type": "execute_result"
    }
   ],
   "source": [
    "# Note: you need to be using OpenAI Python v0.27.0 for the code below to work\n",
    "audio_input_content = open(audio_input_filepath, \"rb\")\n",
    "transcript = openai.Audio.transcribe(\"whisper-1\", audio_input_content)\n",
    "transcript"
   ]
  },
  {
   "cell_type": "code",
   "execution_count": 6,
   "metadata": {},
   "outputs": [],
   "source": [
    "artifacts_dirpath = Path(\"../artifacts\")\n",
    "artifacts_dirpath.mkdir(exist_ok=True)\n",
    "\n",
    "transcript_output_filepath = artifacts_dirpath / \"output.txt\"\n",
    "with open(transcript_output_filepath, \"w\") as output_file:\n",
    "    output_file.write(transcript[\"text\"])"
   ]
  },
  {
   "cell_type": "code",
   "execution_count": 11,
   "metadata": {},
   "outputs": [],
   "source": [
    "# Note: you need to be using OpenAI Python v0.27.0 for the code below to work\n",
    "prompt = \"\"\"\n",
    "provide the outcome as bullet points\n",
    "\"\"\"\n",
    "\n",
    "audio_input_content = open(audio_input_filepath, \"rb\")\n",
    "\n",
    "transcript = openai.Audio.transcribe(\"whisper-1\", audio_input_content, prompt=prompt)\n",
    "\n",
    "transcript_output_filepath = artifacts_dirpath / \"output_with_prompt.txt\"\n",
    "with open(transcript_output_filepath, \"w\") as output_file:\n",
    "    output_file.write(transcript[\"text\"])"
   ]
  },
  {
   "cell_type": "code",
   "execution_count": 8,
   "metadata": {},
   "outputs": [
    {
     "name": "stdout",
     "output_type": "stream",
     "text": [
      "{\"text\":\"So finally we are at the last session of this playlist and I hope you are excited and in this we are going to go for the image edit that is the most hardest part and you will see that it will have some combination of both the previous pages right? So let's get started here and let's first of all go to the code that we have written for this in the Jupyter notebook. So you can see that here we had two instead of having one file upload we had two and then we had text prompt as well and yeah that's it. So you can if you can remember so you can see that here we have two images one text prompt and that n value that is how many variations you want and as well as the size. So if you compare with the previous two examples so one had just prompt another one had images okay only image and then variations previous one has a text and then it's variation so it's a combination of both you can see here. So what we can do is we can borrow some of these learnings from the previous two pages that we have created and we will create our fourth page right? So let me borrow this from the first of all this page number three let me copy paste everything to page number four and we can also import the necessary required utilities and OpenAI and\"}\n"
     ]
    }
   ],
   "source": [
    "import requests\n",
    "\n",
    "headers = {\n",
    "    'Authorization': 'Bearer {}'.format(os.getenv(\"OPENAI_API_KEY\")),\n",
    "}\n",
    "\n",
    "files = {\n",
    "    'file': open(audio_input_filepath, \"rb\"),\n",
    "    'model': (None, 'whisper-1'),\n",
    "}\n",
    "\n",
    "response = requests.post('https://api.openai.com/v1/audio/transcriptions', headers=headers, files=files)\n",
    "\n",
    "print(response.text)"
   ]
  },
  {
   "cell_type": "code",
   "execution_count": null,
   "metadata": {},
   "outputs": [],
   "source": []
  }
 ],
 "metadata": {
  "kernelspec": {
   "display_name": "Python 3",
   "language": "python",
   "name": "python3"
  },
  "language_info": {
   "codemirror_mode": {
    "name": "ipython",
    "version": 3
   },
   "file_extension": ".py",
   "mimetype": "text/x-python",
   "name": "python",
   "nbconvert_exporter": "python",
   "pygments_lexer": "ipython3",
   "version": "3.8.16"
  },
  "orig_nbformat": 4
 },
 "nbformat": 4,
 "nbformat_minor": 2
}
